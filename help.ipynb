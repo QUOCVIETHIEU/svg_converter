{
 "cells": [
  {
   "cell_type": "markdown",
   "id": "1781c71c",
   "metadata": {},
   "source": [
    "# Cách phối tham số để “mượt mà mà vẫn đúng hình”"
   ]
  },
  {
   "cell_type": "markdown",
   "id": "5ea7ae20",
   "metadata": {},
   "source": [
    "### 1. Logo phẳng nhiều cạnh thẳng"
   ]
  },
  {
   "cell_type": "code",
   "execution_count": null,
   "id": "c2f18818",
   "metadata": {
    "vscode": {
     "languageId": "plaintext"
    }
   },
   "outputs": [],
   "source": [
    "--mode color --k 4..8\n",
    "--super-sample 4..6\n",
    "--subpixel-sigma 0.6..0.9\n",
    "--line-tol 0.15..0.3\n",
    "--corner-eps 0.8..1.0\n",
    "--max-err 0.2..0.35\n",
    "--morph-close 2..5 --morph-open 1..2\n",
    "--min-area 80..200"
   ]
  },
  {
   "cell_type": "markdown",
   "id": "8f06a706",
   "metadata": {},
   "source": [
    "→ Mục tiêu: snap cạnh thẳng tốt, cong vẫn mượt, ít răng cưa."
   ]
  },
  {
   "cell_type": "markdown",
   "id": "25d9d771",
   "metadata": {},
   "source": [
    "### 2. Icon cong nhiều (bo tròn, viền lớn)"
   ]
  },
  {
   "cell_type": "code",
   "execution_count": null,
   "id": "69986909",
   "metadata": {
    "vscode": {
     "languageId": "plaintext"
    }
   },
   "outputs": [],
   "source": [
    "--mode color --k 3..6\n",
    "--super-sample 4..6\n",
    "--subpixel-sigma 0.8..1.2\n",
    "--line-tol 0.08..0.15\n",
    "--corner-eps 0.9..1.2\n",
    "--max-err 0.25..0.4\n",
    "--morph-close 3..6 --morph-open 1\n",
    "--min-area 50..120"
   ]
  },
  {
   "cell_type": "markdown",
   "id": "c4fcc5b1",
   "metadata": {},
   "source": [
    "→ Ưu tiên mượt cong, giảm số node."
   ]
  },
  {
   "cell_type": "markdown",
   "id": "4f72dbd0",
   "metadata": {},
   "source": [
    "### 3. Scan đen–trắng / mono"
   ]
  },
  {
   "cell_type": "code",
   "execution_count": null,
   "id": "e05e2c3a",
   "metadata": {
    "vscode": {
     "languageId": "plaintext"
    }
   },
   "outputs": [],
   "source": [
    "--mode mono\n",
    "--super-sample 3..5\n",
    "--curve-sigma 1.2..2.0\n",
    "--subpixel-sigma 0.6..1.0\n",
    "--line-tol 0.12..0.25\n",
    "--corner-eps 0.8..1.0\n",
    "--max-err 0.22..0.35\n",
    "--morph-close 3..7 \n",
    "--morph-open 1..3\n",
    "--min-area 120..400"
   ]
  },
  {
   "cell_type": "markdown",
   "id": "4a762c1a",
   "metadata": {},
   "source": [
    "→ Lọc nhiễu, mài răng ở các đường cong mà vẫn giữ cạnh thẳng."
   ]
  },
  {
   "cell_type": "markdown",
   "id": "ee0c6036",
   "metadata": {},
   "source": [
    "# Cheat-sheet” làm mượt nhanh\n",
    "- Vẫn răng cưa? → Tăng --super-sample, tăng --subpixel-sigma (0.2–0.4 mỗi lần), hoặc tăng --curve-sigma (mono).\n",
    "- Cạnh thẳng bị lượn? → Tăng --line-tol, giảm --curve-sigma, giảm --subpixel-sigma.\n",
    "- Góc bị tròn quá? → Giảm --corner-eps, giảm --max-err.\n",
    "- Quá nhiều chi tiết nhỏ/nham nhở? → Tăng --min-area, tăng --morph-open, tăng --repair-clean.\n",
    "- Path quá nặng? → Tăng --max-err, tăng --decimate, giảm --k."
   ]
  }
 ],
 "metadata": {
  "language_info": {
   "name": "python"
  }
 },
 "nbformat": 4,
 "nbformat_minor": 5
}
